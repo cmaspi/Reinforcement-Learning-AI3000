{
 "cells": [
  {
   "cell_type": "code",
   "execution_count": 2,
   "metadata": {},
   "outputs": [],
   "source": [
    "import gym\n",
    "import numpy as np\n",
    "import random\n",
    "from tqdm import tqdm"
   ]
  },
  {
   "cell_type": "code",
   "execution_count": 4,
   "metadata": {},
   "outputs": [
    {
     "name": "stdout",
     "output_type": "stream",
     "text": [
      "action space: Discrete(2)\n",
      "state space: Box([-4.8000002e+00 -3.4028235e+38 -4.1887903e-01 -3.4028235e+38], [4.8000002e+00 3.4028235e+38 4.1887903e-01 3.4028235e+38], (4,), float32)\n"
     ]
    },
    {
     "name": "stderr",
     "output_type": "stream",
     "text": [
      "/home/cmaspi/.local/lib/python3.10/site-packages/gym/envs/registration.py:505: UserWarning: \u001b[33mWARN: The environment CartPole-v0 is out of date. You should consider upgrading to version `v1` with the environment ID `CartPole-v1`.\u001b[0m\n",
      "  logger.warn(\n"
     ]
    }
   ],
   "source": [
    "ENV_NAME = 'CartPole-v0'\n",
    "\n",
    "env = gym.make(ENV_NAME)\n",
    "print(f'action space: {env.action_space}')\n",
    "print(f'state space: {env.observation_space}')"
   ]
  },
  {
   "cell_type": "code",
   "execution_count": 21,
   "metadata": {},
   "outputs": [
    {
     "name": "stderr",
     "output_type": "stream",
     "text": [
      "/home/cmaspi/.local/lib/python3.10/site-packages/gym/envs/registration.py:505: UserWarning: \u001b[33mWARN: The environment CartPole-v0 is out of date. You should consider upgrading to version `v1` with the environment ID `CartPole-v1`.\u001b[0m\n",
      "  logger.warn(\n"
     ]
    },
    {
     "name": "stdout",
     "output_type": "stream",
     "text": [
      "16\n",
      "46\n",
      "26\n",
      "17\n",
      "21\n",
      "14\n",
      "31\n",
      "25\n",
      "10\n",
      "10\n",
      "[16.0, 46.0, 26.0, 17.0, 21.0, 14.0, 31.0, 25.0, 10.0, 10.0]\n"
     ]
    }
   ],
   "source": [
    "def random_agent(env):\n",
    "    return np.random.choice(env.action_space.n, 1)[0]\n",
    "\n",
    "\n",
    "def simulate(num_episodes: int, render=False):\n",
    "    env = gym.make(ENV_NAME)\n",
    "    scores = []\n",
    "    for episode in range(1, num_episodes+1):\n",
    "        total_score = 0\n",
    "        state = env.reset()\n",
    "        done = False\n",
    "        itr = 0\n",
    "        while not done:\n",
    "            itr += 1\n",
    "            if render:\n",
    "                env.render()\n",
    "            action = random_agent(env)\n",
    "            next_state, reward, done, *_ = env.step(action)\n",
    "            total_score += reward\n",
    "        scores.append(total_score)\n",
    "        print(itr)\n",
    "    env.close()\n",
    "    return scores\n",
    "\n",
    "\n",
    "scores = simulate(10, True)\n",
    "print(scores)\n"
   ]
  },
  {
   "cell_type": "markdown",
   "metadata": {},
   "source": [
    "The random agent performs poorly, the game stops within a very short time frame because it breaches one of the two mentioned conditions, that are\n",
    "\n",
    "1. It shouldn't be off by more than 2.4 units\n",
    "2. The angle from vertical shouldn't be more than 15 degrees.\n",
    "\n",
    "A reward of +1 is given for each time stamp that the pole stays upright."
   ]
  },
  {
   "cell_type": "code",
   "execution_count": null,
   "metadata": {},
   "outputs": [],
   "source": []
  }
 ],
 "metadata": {
  "kernelspec": {
   "display_name": "Python 3.10.6 64-bit",
   "language": "python",
   "name": "python3"
  },
  "language_info": {
   "codemirror_mode": {
    "name": "ipython",
    "version": 3
   },
   "file_extension": ".py",
   "mimetype": "text/x-python",
   "name": "python",
   "nbconvert_exporter": "python",
   "pygments_lexer": "ipython3",
   "version": "3.10.6"
  },
  "orig_nbformat": 4,
  "vscode": {
   "interpreter": {
    "hash": "916dbcbb3f70747c44a77c7bcd40155683ae19c65e1c03b4aa3499c5328201f1"
   }
  }
 },
 "nbformat": 4,
 "nbformat_minor": 2
}
