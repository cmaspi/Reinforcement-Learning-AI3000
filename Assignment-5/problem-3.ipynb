{
 "cells": [
  {
   "cell_type": "code",
   "execution_count": 1,
   "metadata": {},
   "outputs": [],
   "source": [
    "import numpy as np\n",
    "from typing import Tuple\n",
    "from collections import defaultdict\n",
    "import matplotlib.pyplot as plt\n",
    "from tqdm import tqdm\n",
    "import mplcyberpunk\n",
    "\n",
    "\n",
    "plt.style.use('cyberpunk')"
   ]
  },
  {
   "cell_type": "code",
   "execution_count": 21,
   "metadata": {},
   "outputs": [],
   "source": [
    "class TicTacToe:\n",
    "    def __init__(self):\n",
    "        self.board = np.zeros((3, 3))\n",
    "        self.board_prev = (0, 0)\n",
    "    \n",
    "    def mark(self, position: Tuple[int, int], player: int) -> None:\n",
    "        \"\"\"marks the board at given position for given player\n",
    "\n",
    "        Args:\n",
    "            position (Tuple[int, int]): position on the board. Tuple[0-2, 0-2]\n",
    "            player (int): who is the player 1 (player), 2 (opponent)\n",
    "        \"\"\"\n",
    "        # if not self.board[position]:\n",
    "        self.board_prev = position\n",
    "        self.board[position] = player\n",
    "    \n",
    "    def undo(self):\n",
    "        self.board[self.board_prev] = 0\n",
    "    \n",
    "    def return_available(self) -> np.ndarray:\n",
    "        \"\"\"\n",
    "        Returns the array of available moves\n",
    "\n",
    "        Returns:\n",
    "            np.ndarray: array of available moves\n",
    "        \"\"\"\n",
    "        temp = np.where(self.board==0)\n",
    "        temp = np.c_[temp[0], temp[1]]\n",
    "        np.random.shuffle(temp)\n",
    "        return temp\n",
    "\n",
    "\n",
    "    def mark_random(self, player):\n",
    "        available_moves = self.return_available()\n",
    "        move = tuple(available_moves[0])\n",
    "        self.mark(move, player=player)\n",
    "    \n",
    "    def mark_safe(self, player):\n",
    "        available_moves = self.return_available()\n",
    "        for move in available_moves:\n",
    "            self.mark(tuple(move), player)\n",
    "            if self.check_win() == player:\n",
    "                return\n",
    "            self.undo()\n",
    "        player ^= 3\n",
    "        for move in available_moves:\n",
    "            self.mark(tuple(move), player)\n",
    "            if self.check_win() == player:\n",
    "                self.undo()\n",
    "                player ^= 3\n",
    "                self.mark(tuple(move), player)\n",
    "                return\n",
    "            self.undo()\n",
    "        player ^= 3\n",
    "        self.mark_random(player=player)\n",
    "        \n",
    "    def check_win(self):\n",
    "        for j in range(1,3):\n",
    "            if (self.board==j).all(axis=1).any() :\n",
    "                return j\n",
    "            if (self.board==j).all(axis=0).any():\n",
    "                return j\n",
    "            if (np.diag(self.board)==j).all():\n",
    "                return j\n",
    "            if (np.diag(self.board[::-1])==j).all():\n",
    "                return j\n",
    "        return 0\n",
    "    \n",
    "    def check_end(self):\n",
    "        return self.board.all() or self.check_win()"
   ]
  },
  {
   "cell_type": "code",
   "execution_count": 22,
   "metadata": {},
   "outputs": [],
   "source": [
    "class Player:\n",
    "    def __init__(self) -> None:\n",
    "        self.value = [None, defaultdict(float), defaultdict(float)]\n",
    "        self.n_visits = defaultdict(int)\n",
    "    \n",
    "    def reset(self):\n",
    "        self.value = [None, defaultdict(float), defaultdict(float)]\n",
    "        self.n_visits = defaultdict(int)\n",
    "\n",
    "    \n",
    "    def choose(self, board, player):\n",
    "        possible_actions = board.return_available()\n",
    "        scores = np.zeros(possible_actions.shape[0])\n",
    "        for idx, action in enumerate(possible_actions):\n",
    "            board.mark(tuple(action), player)\n",
    "            state = board.board.data.tobytes()\n",
    "            board.undo()\n",
    "            scores[idx] = self.value[player][state]\n",
    "        return tuple(possible_actions[np.argmax(scores)])\n",
    "\n",
    "    def selection(self, player: int, board: TicTacToe, path: list):\n",
    "        possible_actions = board.return_available()\n",
    "        \n",
    "        # if terminal state has been reached\n",
    "        if possible_actions.size == 0 or board.check_win():\n",
    "            winner = board.check_win()\n",
    "            if player == winner:\n",
    "                reward = -1\n",
    "            if winner == 0:\n",
    "                reward = 0\n",
    "            else:\n",
    "                reward = 1\n",
    "            player ^= 3\n",
    "            self.backprop(path, reward, player)\n",
    "            return\n",
    "\n",
    "        uct_scores = np.zeros(possible_actions.shape[0])\n",
    "        parent = board.board.data.tobytes()\n",
    "        parent_visits = self.n_visits[parent]\n",
    "        for idx, action in enumerate(possible_actions):\n",
    "            board.mark(tuple(action), player)\n",
    "            state = board.board.data.tobytes()\n",
    "            board.undo()\n",
    "            uct_scores[idx] = self.value[player][state]\n",
    "            state_visits = self.n_visits[state]\n",
    "            if state_visits == 0:\n",
    "                path.append(state)\n",
    "                board.mark(tuple(action), player)\n",
    "                player ^= 3\n",
    "                reward = self.rollout(player, board)\n",
    "                player ^= 3\n",
    "                self.backprop(path, reward, player)\n",
    "                return\n",
    "\n",
    "            uct_scores[idx] += 1*np.sqrt(parent_visits/state_visits)\n",
    "\n",
    "        best_action_idx = np.argmax(uct_scores)\n",
    "        best_action = possible_actions[best_action_idx]\n",
    "        board.mark(tuple(best_action), player)\n",
    "        path.append(board.board.data.tobytes())\n",
    "        player ^= 3\n",
    "        self.selection(player, board, path)\n",
    "\n",
    "    \n",
    "    def rollout(self, player: int, board: TicTacToe) -> float:\n",
    "        op = player\n",
    "        while not board.check_end():\n",
    "            board.mark_random(player = player)\n",
    "            player ^= 3\n",
    "        winner = board.check_win()\n",
    "        if winner == 0:\n",
    "            return 0\n",
    "        if winner == op:\n",
    "            return -1\n",
    "        else:\n",
    "            return 1\n",
    "\n",
    "    def backprop(self, path: list, reward: float, player: int):\n",
    "        for state in path[::-1]:\n",
    "            self.n_visits[state] += 1\n",
    "            self.value[player][state] += (reward-self.value[player][state])/self.n_visits[state]\n",
    "            reward *= -0.95\n",
    "            player ^= 3\n",
    "        return\n",
    "\n",
    "        "
   ]
  },
  {
   "cell_type": "markdown",
   "metadata": {},
   "source": [
    "# Part-b"
   ]
  },
  {
   "cell_type": "code",
   "execution_count": 23,
   "metadata": {},
   "outputs": [
    {
     "data": {
      "image/png": "[encoded data removed]",
      "text/plain": [
       "<Figure size 640x480 with 6 Axes>"
      ]
     },
     "metadata": {},
     "output_type": "display_data"
    }
   ],
   "source": [
    "board = TicTacToe()\n",
    "board.board = np.array([[1, 1, 0],[2, 2, 0], [0, 0, 0]])\n",
    "state = board.board.data.tobytes()\n",
    "board_copy = np.array(board.board)\n",
    "mcts = Player()\n",
    "\n",
    "for i in range(1000):\n",
    "    mcts.selection(1, board, [state])\n",
    "    board.board = np.array(board_copy)\n",
    "\n",
    "\n",
    "moves = board.return_available()\n",
    "\n",
    "fig, ax = plt.subplots(3, 2, constrained_layout=True)\n",
    "fig.tight_layout()\n",
    "ax[0][0].imshow(board.board)\n",
    "ax[0][0].set_title(\"Initial Position\")\n",
    "ax[0][0].set_xticks(np.array([0.5, 1.5]))\n",
    "ax[0][0].set_yticks(np.array([0.5, 1.5]))\n",
    "ax[0][0].grid(which='major', axis='both', linestyle='-', color='k', linewidth=2)\n",
    "ax[0][0].set_xticklabels([])\n",
    "ax[0][0].set_yticklabels([])\n",
    "x, y = 0, 0\n",
    "for idx, move in enumerate(moves):\n",
    "    board.board = np.array(board_copy)\n",
    "    y += 1\n",
    "    if y == 2:\n",
    "        y = 0\n",
    "        x += 1\n",
    "    board.mark(tuple(move), 1)\n",
    "    val = mcts.value[1][board.board.data.tobytes()]\n",
    "    board.mark(tuple(move), 3)\n",
    "    ax[x][y].imshow(board.board)\n",
    "    ax[x][y].set_title(f\"Value: {val:.4f}\")\n",
    "    ax[x][y].set_xticks(np.array([0.5, 1.5]))\n",
    "    ax[x][y].set_yticks(np.array([0.5, 1.5]))\n",
    "    ax[x][y].grid(which='major', axis='both', linestyle='-', color='k', linewidth=2)\n",
    "    ax[x][y].set_xticklabels([])\n",
    "    ax[x][y].set_yticklabels([])\n",
    "fig.suptitle('One move away from winning', fontsize=16)\n",
    "plt.subplots_adjust(top=0.8)\n",
    "plt.show()\n",
    "\n"
   ]
  },
  {
   "cell_type": "markdown",
   "metadata": {},
   "source": [
    "The agent makes the move that helps it win"
   ]
  },
  {
   "cell_type": "code",
   "execution_count": 29,
   "metadata": {},
   "outputs": [
    {
     "data": {
      "image/png": "[encoded data removed]",
      "text/plain": [
       "<Figure size 640x480 with 6 Axes>"
      ]
     },
     "metadata": {},
     "output_type": "display_data"
    }
   ],
   "source": [
    "board = TicTacToe()\n",
    "board.board = np.array([[1, 0, 1],[0, 2, 0], [1, 0, 2]])\n",
    "state = board.board.data.tobytes()\n",
    "board_copy = np.array(board.board)\n",
    "mcts = Player()\n",
    "\n",
    "for i in range(1000):\n",
    "    mcts.selection(2, board, [state])\n",
    "    board.board = np.array(board_copy)\n",
    "\n",
    "\n",
    "moves = board.return_available()\n",
    "\n",
    "fig, ax = plt.subplots(3, 2, constrained_layout=True)\n",
    "fig.tight_layout()\n",
    "ax[0][0].imshow(board.board)\n",
    "ax[0][0].set_title(\"Initial Position\")\n",
    "ax[0][0].set_xticks(np.array([0.5, 1.5]))\n",
    "ax[0][0].set_yticks(np.array([0.5, 1.5]))\n",
    "ax[0][0].grid(which='major', axis='both', linestyle='-', color='k', linewidth=2)\n",
    "ax[0][0].set_xticklabels([])\n",
    "ax[0][0].set_yticklabels([])\n",
    "x, y = 0, 0\n",
    "for idx, move in enumerate(moves):\n",
    "    board.board = np.array(board_copy)\n",
    "    y += 1\n",
    "    if y == 2:\n",
    "        y = 0\n",
    "        x += 1\n",
    "    board.mark(tuple(move), 2)\n",
    "    val = mcts.value[2][board.board.data.tobytes()]\n",
    "    board.mark(tuple(move), 3)\n",
    "    ax[x][y].imshow(board.board)\n",
    "    ax[x][y].set_title(f\"Value: {val:.4f}\")\n",
    "    ax[x][y].set_xticks(np.array([0.5, 1.5]))\n",
    "    ax[x][y].set_yticks(np.array([0.5, 1.5]))\n",
    "    ax[x][y].grid(which='major', axis='both', linestyle='-', color='k', linewidth=2)\n",
    "    ax[x][y].set_xticklabels([])\n",
    "    ax[x][y].set_yticklabels([])\n",
    "fig.suptitle('One move away from losing', fontsize=16)\n",
    "plt.subplots_adjust(top=0.8)\n",
    "plt.show()\n",
    "\n"
   ]
  },
  {
   "cell_type": "markdown",
   "metadata": {},
   "source": [
    "The agent makes a move that blocks at least one of the two winning moves for the opponent\n"
   ]
  },
  {
   "cell_type": "code",
   "execution_count": 24,
   "metadata": {},
   "outputs": [
    {
     "data": {
      "image/png": "[encoded data removed]",
      "text/plain": [
       "<Figure size 640x480 with 9 Axes>"
      ]
     },
     "metadata": {},
     "output_type": "display_data"
    }
   ],
   "source": [
    "board = TicTacToe()\n",
    "board.board = np.array([[0, 0, 0],[0, 1, 0], [0, 0, 0]])\n",
    "state = board.board.data.tobytes()\n",
    "board_copy = np.array(board.board)\n",
    "mcts = Player()\n",
    "\n",
    "for i in range(1000):\n",
    "    mcts.selection(2, board, [state])\n",
    "    board.board = np.array(board_copy)\n",
    "\n",
    "\n",
    "moves = board.return_available()\n",
    "\n",
    "fig, ax = plt.subplots(3, 3, constrained_layout=True)\n",
    "fig.tight_layout()\n",
    "ax[0][0].imshow(board.board)\n",
    "ax[0][0].set_title(\"Initial Position\")\n",
    "ax[0][0].set_xticks(np.array([0.5, 1.5]))\n",
    "ax[0][0].set_yticks(np.array([0.5, 1.5]))\n",
    "ax[0][0].grid(which='major', axis='both', linestyle='-', color='k', linewidth=2)\n",
    "ax[0][0].set_xticklabels([])\n",
    "ax[0][0].set_yticklabels([])\n",
    "x, y = 0, 0\n",
    "for idx, move in enumerate(moves):\n",
    "    board.board = np.array(board_copy)\n",
    "    y += 1\n",
    "    if y == 3:\n",
    "        y = 0\n",
    "        x += 1\n",
    "    board.mark(tuple(move), 2)\n",
    "    val = mcts.value[2][board.board.data.tobytes()]\n",
    "    ax[x][y].imshow(board.board)\n",
    "    ax[x][y].set_title(f\"Value: {val:.4f}\")\n",
    "    ax[x][y].set_xticks(np.array([0.5, 1.5]))\n",
    "    ax[x][y].set_yticks(np.array([0.5, 1.5]))\n",
    "    ax[x][y].grid(which='major', axis='both', linestyle='-', color='k', linewidth=2)\n",
    "    ax[x][y].set_xticklabels([])\n",
    "    ax[x][y].set_yticklabels([])\n",
    "fig.suptitle('Opponent has occupied center position', fontsize=16)\n",
    "plt.subplots_adjust(top=0.8)\n",
    "plt.show()\n",
    "\n"
   ]
  },
  {
   "cell_type": "markdown",
   "metadata": {},
   "source": [
    "The mcts agent would pick one of the diagonal entries."
   ]
  },
  {
   "cell_type": "markdown",
   "metadata": {},
   "source": [
    "# Part-c\n",
    "Number of wins, losses against random and safe agent"
   ]
  },
  {
   "cell_type": "code",
   "execution_count": 30,
   "metadata": {},
   "outputs": [
    {
     "name": "stderr",
     "output_type": "stream",
     "text": [
      "100%|██████████| 1000/1000 [26:33<00:00,  1.59s/it]"
     ]
    },
    {
     "name": "stdout",
     "output_type": "stream",
     "text": [
      "wins against random: 912, losses against random: 2\n"
     ]
    },
    {
     "name": "stderr",
     "output_type": "stream",
     "text": [
      "\n"
     ]
    }
   ],
   "source": [
    "def test_against_random(num_games, num_traverse_at_each_state):\n",
    "    mcts = Player()\n",
    "    wins, losses = 0, 0\n",
    "\n",
    "    for _ in tqdm(range(num_games)):\n",
    "        board = TicTacToe()\n",
    "        random_marker = 2\n",
    "        mcts_marker = 1\n",
    "        if np.random.random() > 0.5:\n",
    "            random_marker = 1\n",
    "            mcts_marker = 2\n",
    "            board.mark_random(random_marker)\n",
    "        while not board.check_end():\n",
    "            board_copy = np.array(board.board)\n",
    "            state = board.board.data.tobytes()\n",
    "\n",
    "            for _ in range(num_traverse_at_each_state):\n",
    "                mcts.selection(mcts_marker, board, [state])\n",
    "                board.board = np.array(board_copy)\n",
    "\n",
    "            action = mcts.choose(board, mcts_marker)\n",
    "            board.mark(action, player=mcts_marker)\n",
    "            if board.check_end():\n",
    "                break\n",
    "            board.mark_random(player=random_marker)\n",
    "        winner = board.check_win()\n",
    "        wins += 1 if winner == mcts_marker else 0\n",
    "        losses += 1 if winner == random_marker else 0\n",
    "\n",
    "\n",
    "    print(f'wins against random: {wins}, losses against random: {losses}')\n",
    "\n",
    "test_against_random(1000, 1000)"
   ]
  },
  {
   "cell_type": "code",
   "execution_count": 26,
   "metadata": {},
   "outputs": [
    {
     "name": "stderr",
     "output_type": "stream",
     "text": [
      "100%|██████████| 1000/1000 [30:27<00:00,  1.83s/it]"
     ]
    },
    {
     "name": "stdout",
     "output_type": "stream",
     "text": [
      "wins against safe: 339, losses against safe: 8\n"
     ]
    },
    {
     "name": "stderr",
     "output_type": "stream",
     "text": [
      "\n"
     ]
    }
   ],
   "source": [
    "def test_against_safe(num_games, num_traverse_at_each_state):\n",
    "    mcts = Player()\n",
    "    wins, losses = 0, 0\n",
    "\n",
    "    for _ in tqdm(range(num_games)):\n",
    "        board = TicTacToe()\n",
    "        safe_marker = 2\n",
    "        mcts_marker = 1\n",
    "        if np.random.random() > 0.5:\n",
    "            safe_marker = 1\n",
    "            mcts_marker = 2\n",
    "            board.mark_safe(safe_marker)\n",
    "        while not board.check_end():\n",
    "            mcts.reset()\n",
    "            board_copy = np.array(board.board)\n",
    "            state = board.board.data.tobytes()\n",
    "            for _ in range(num_traverse_at_each_state):\n",
    "                mcts.selection(mcts_marker, board, [state])\n",
    "                board.board = np.array(board_copy)\n",
    "\n",
    "            action = mcts.choose(board, mcts_marker)\n",
    "            board.mark(action, player=mcts_marker)\n",
    "            if board.check_end():\n",
    "                break\n",
    "            board.mark_safe(player=safe_marker)\n",
    "        winner = board.check_win()\n",
    "        wins += 1 if winner == mcts_marker else 0\n",
    "        losses += 1 if winner == safe_marker else 0\n",
    "\n",
    "    print(f'wins against safe: {wins}, losses against safe: {losses}')\n",
    "\n",
    "test_against_safe(1000, 1000)"
   ]
  },
  {
   "cell_type": "markdown",
   "metadata": {},
   "source": [
    "# Part-d\n",
    "Number of wins, losses of MCTS against itself.\n"
   ]
  },
  {
   "cell_type": "code",
   "execution_count": 27,
   "metadata": {},
   "outputs": [
    {
     "name": "stderr",
     "output_type": "stream",
     "text": [
      "100%|██████████| 1000/1000 [05:27<00:00,  3.05it/s]"
     ]
    },
    {
     "name": "stdout",
     "output_type": "stream",
     "text": [
      "wins against self: 398, losses against self: 29\n"
     ]
    },
    {
     "name": "stderr",
     "output_type": "stream",
     "text": [
      "\n"
     ]
    }
   ],
   "source": [
    "def test_against_self(num_games, num_traverse_at_each_state):\n",
    "    mcts = Player()\n",
    "    wins, losses = 0, 0\n",
    "\n",
    "    for _ in tqdm(range(num_games)):\n",
    "        board = TicTacToe()\n",
    "\n",
    "        while not board.check_end():\n",
    "            board_copy = np.array(board.board)\n",
    "            state = board_copy.data.tobytes()\n",
    "            mcts.reset()\n",
    "            for i in range(num_traverse_at_each_state):\n",
    "                mcts.selection(1, board, [state])\n",
    "                board.board = np.array(board_copy)\n",
    "\n",
    "            action = mcts.choose(board, 1)\n",
    "            board.mark(action, player=1)\n",
    "            if board.check_end():\n",
    "                break\n",
    "\n",
    "            board_copy = np.array(board.board)\n",
    "            state = board_copy.data.tobytes()\n",
    "            mcts.reset()\n",
    "            for _ in range(num_traverse_at_each_state):\n",
    "                mcts.selection(2, board, [state])\n",
    "                board.board = np.array(board_copy)\n",
    "\n",
    "            action = mcts.choose(board, 2)\n",
    "            board.mark(action, player=2)\n",
    "        winner = board.check_win()\n",
    "        wins += 1 if winner == 1 else 0\n",
    "        losses += 1 if winner == 2 else 0\n",
    "\n",
    "    print(f'wins against self: {wins}, losses against self: {losses}')\n",
    "\n",
    "test_against_self(1000, 100)"
   ]
  },
  {
   "cell_type": "code",
   "execution_count": null,
   "metadata": {},
   "outputs": [],
   "source": []
  }
 ],
 "metadata": {
  "kernelspec": {
   "display_name": "Python 3.10.6 64-bit",
   "language": "python",
   "name": "python3"
  },
  "language_info": {
   "codemirror_mode": {
    "name": "ipython",
    "version": 3
   },
   "file_extension": ".py",
   "mimetype": "text/x-python",
   "name": "python",
   "nbconvert_exporter": "python",
   "pygments_lexer": "ipython3",
   "version": "3.10.6"
  },
  "orig_nbformat": 4,
  "vscode": {
   "interpreter": {
    "hash": "916dbcbb3f70747c44a77c7bcd40155683ae19c65e1c03b4aa3499c5328201f1"
   }
  }
 },
 "nbformat": 4,
 "nbformat_minor": 2
}
