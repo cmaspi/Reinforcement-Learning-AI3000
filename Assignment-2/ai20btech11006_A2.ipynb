{
 "cells": [
  {
   "cell_type": "code",
   "execution_count": null,
   "metadata": {},
   "outputs": [],
   "source": []
  },
  {
   "cell_type": "markdown",
   "metadata": {},
   "source": [
    "# Question-1\n",
    "## part-a\n",
    "\n",
    "\n",
    "## part-b\n",
    "pass\n",
    "\n",
    "## part-c\n",
    "pass"
   ]
  },
  {
   "cell_type": "markdown",
   "metadata": {},
   "source": [
    "# Problem-2\n",
    "## Part-a\n",
    "For $P$\n",
    "$$\\lVert P(v)-P(u) \\rVert \\leq \\gamma_1\\lVert v-u \\rVert$$\n",
    "and for $Q$\n",
    "$$\\lVert Q(v)-Q(u) \\rVert \\leq \\gamma_2\\lVert v-u \\rVert$$\n",
    "In the first equation substitute $v$ by $Q(v)$ and $u$ by $Q(u)$. We get,\n",
    "$$\\lVert P(Q(v))-P(Q(u)) \\rVert \\leq \\gamma_1\\lVert Q(v)-Q(u) \\rVert$$\n",
    "From the second equation\n",
    "$$\\lVert P(Q(v))-P(Q(u)) \\rVert \\leq \\gamma_1\\gamma_2\\lVert v-u \\rVert$$\n",
    "\n",
    "$\\therefore\\, P\\circ Q$ is a contraction mapping\n",
    "\n",
    "Now, there's nothing unique about $P$ or $Q$, we could just swap them and we would still get the same result. Or we would follow the same procedure and get \n",
    "$$\\lVert Q(P(v))-Q(P(u)) \\rVert \\leq \\gamma_1\\gamma_2\\lVert v-u \\rVert$$\n",
    "\n",
    "## Part-b\n",
    "From the solution to above subpart, we can see that the contraction coefficient for both the composite functions is $\\gamma_1\\gamma_2$ where $\\gamma_1$, $\\gamma_2$ are the contraction coefficients for $P$ and $Q$ respectively.\n",
    "\n",
    "## Part-c\n",
    "The value iteration scheme under the operator would converge to a unqiue solution if it follows\n",
    "$$\\lVert B(v)-B(u)\\rVert \\leq \\lVert v-u\\rVert$$\n",
    "Writing $B$ as a composite function, we can arrive at a general solution with a specific behaviour\n",
    "$$\\lVert F(L(v)) - F(L(u))\\rVert \\leq \\lVert v-u\\rVert$$\n",
    "Assume $\\lVert F(v) - F(u)\\rVert \\leq \\eta \\lVert v-u\\rVert$\n",
    "Now\n",
    "$$\\lVert F(L(v)) - F(L(u))\\rVert \\leq \\eta\\lVert L(v)-L(u)\\rVert \\leq \\eta/\\gamma \\lVert v-u\\rVert$$\n",
    "We get that $\\frac{\\eta}{\\gamma}<1$"
   ]
  },
  {
   "cell_type": "markdown",
   "metadata": {},
   "source": []
  }
 ],
 "metadata": {
  "kernelspec": {
   "display_name": "Python 3.10.4 64-bit",
   "language": "python",
   "name": "python3"
  },
  "language_info": {
   "name": "python",
   "version": "3.10.4"
  },
  "orig_nbformat": 4,
  "vscode": {
   "interpreter": {
    "hash": "916dbcbb3f70747c44a77c7bcd40155683ae19c65e1c03b4aa3499c5328201f1"
   }
  }
 },
 "nbformat": 4,
 "nbformat_minor": 2
}
